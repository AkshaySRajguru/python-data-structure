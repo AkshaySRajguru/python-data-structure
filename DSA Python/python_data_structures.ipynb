{
 "cells": [
  {
   "cell_type": "markdown",
   "metadata": {},
   "source": [
    "## Part I: Bult-in Data Structures\n",
    "### list, tuple(immutable), set, and dictionary\n",
    "\n",
    "https://towardsdatascience.com/data-structures-algorithms-in-python-68c8dbb19c90\n",
    "\n",
    "https://towardsdatascience.com/data-structures-algorithms-in-python-68c8dbb19c90\n",
    "\n",
    "### Simple put, a mutable object can be changed (we can change its state or contents) after it is created, and an immutable object can’t.\n",
    "\n",
    "### Objects of built-in types like (int, float, bool, str, tuple, unicode, frozenset) are immutable. \n",
    "### Objects of built-in types like (list, set, dict) are mutable. \n",
    "\n",
    "### Custom classes are generally mutable. To simulate immutability in a class, one should override attribute setting and deletion to raise exceptions"
   ]
  },
  {
   "cell_type": "code",
   "execution_count": 1,
   "metadata": {},
   "outputs": [],
   "source": [
    "a = \"abc\""
   ]
  },
  {
   "cell_type": "code",
   "execution_count": 2,
   "metadata": {},
   "outputs": [
    {
     "data": {
      "text/plain": [
       "str"
      ]
     },
     "execution_count": 2,
     "metadata": {},
     "output_type": "execute_result"
    }
   ],
   "source": [
    "type(a) #returns the type of an object"
   ]
  },
  {
   "cell_type": "code",
   "execution_count": 3,
   "metadata": {},
   "outputs": [
    {
     "data": {
      "text/plain": [
       "2178286980544"
      ]
     },
     "execution_count": 3,
     "metadata": {},
     "output_type": "execute_result"
    }
   ],
   "source": [
    "id(a) #returns the identity of an object as an integer"
   ]
  },
  {
   "cell_type": "code",
   "execution_count": 4,
   "metadata": {},
   "outputs": [],
   "source": [
    "b = \"abc\""
   ]
  },
  {
   "cell_type": "code",
   "execution_count": 5,
   "metadata": {},
   "outputs": [
    {
     "data": {
      "text/plain": [
       "2178286980544"
      ]
     },
     "execution_count": 5,
     "metadata": {},
     "output_type": "execute_result"
    }
   ],
   "source": [
    "id(b)"
   ]
  },
  {
   "cell_type": "code",
   "execution_count": 6,
   "metadata": {},
   "outputs": [
    {
     "name": "stdout",
     "output_type": "stream",
     "text": [
      "True\n"
     ]
    }
   ],
   "source": [
    "print(a is b) #compares the identity of two objects"
   ]
  },
  {
   "cell_type": "markdown",
   "metadata": {},
   "source": [
    "### Immutable objects doesn’t allow modification after creation"
   ]
  },
  {
   "cell_type": "code",
   "execution_count": 7,
   "metadata": {},
   "outputs": [],
   "source": [
    "x = 10\n",
    "y = x"
   ]
  },
  {
   "cell_type": "code",
   "execution_count": 8,
   "metadata": {},
   "outputs": [
    {
     "data": {
      "text/plain": [
       "1424470528"
      ]
     },
     "execution_count": 8,
     "metadata": {},
     "output_type": "execute_result"
    }
   ],
   "source": [
    "id(x)"
   ]
  },
  {
   "cell_type": "code",
   "execution_count": 9,
   "metadata": {},
   "outputs": [
    {
     "data": {
      "text/plain": [
       "1424470528"
      ]
     },
     "execution_count": 9,
     "metadata": {},
     "output_type": "execute_result"
    }
   ],
   "source": [
    "id(y)"
   ]
  },
  {
   "cell_type": "code",
   "execution_count": 10,
   "metadata": {},
   "outputs": [
    {
     "name": "stdout",
     "output_type": "stream",
     "text": [
      "True\n"
     ]
    }
   ],
   "source": [
    "print(x is y)"
   ]
  },
  {
   "cell_type": "code",
   "execution_count": 11,
   "metadata": {},
   "outputs": [],
   "source": [
    "x = x + 1"
   ]
  },
  {
   "cell_type": "code",
   "execution_count": 12,
   "metadata": {},
   "outputs": [
    {
     "data": {
      "text/plain": [
       "1424470560"
      ]
     },
     "execution_count": 12,
     "metadata": {},
     "output_type": "execute_result"
    }
   ],
   "source": [
    "id(x)"
   ]
  },
  {
   "cell_type": "code",
   "execution_count": 13,
   "metadata": {},
   "outputs": [
    {
     "data": {
      "text/plain": [
       "1424470528"
      ]
     },
     "execution_count": 13,
     "metadata": {},
     "output_type": "execute_result"
    }
   ],
   "source": [
    "id(y)"
   ]
  },
  {
   "cell_type": "code",
   "execution_count": 14,
   "metadata": {},
   "outputs": [
    {
     "name": "stdout",
     "output_type": "stream",
     "text": [
      "False\n"
     ]
    }
   ],
   "source": [
    "print(x is y)"
   ]
  },
  {
   "cell_type": "markdown",
   "metadata": {},
   "source": [
    "### Mutable objects does allow modification after creation\n"
   ]
  },
  {
   "cell_type": "code",
   "execution_count": 15,
   "metadata": {},
   "outputs": [],
   "source": [
    "m = list([1, 2, 3])\n",
    "n = m"
   ]
  },
  {
   "cell_type": "code",
   "execution_count": 16,
   "metadata": {},
   "outputs": [
    {
     "data": {
      "text/plain": [
       "2178332202888"
      ]
     },
     "execution_count": 16,
     "metadata": {},
     "output_type": "execute_result"
    }
   ],
   "source": [
    "id(m)"
   ]
  },
  {
   "cell_type": "code",
   "execution_count": 17,
   "metadata": {},
   "outputs": [
    {
     "data": {
      "text/plain": [
       "2178332202888"
      ]
     },
     "execution_count": 17,
     "metadata": {},
     "output_type": "execute_result"
    }
   ],
   "source": [
    "id(n)"
   ]
  },
  {
   "cell_type": "code",
   "execution_count": 18,
   "metadata": {},
   "outputs": [
    {
     "name": "stdout",
     "output_type": "stream",
     "text": [
      "True\n"
     ]
    }
   ],
   "source": [
    "print(m is n)"
   ]
  },
  {
   "cell_type": "code",
   "execution_count": 19,
   "metadata": {},
   "outputs": [
    {
     "data": {
      "text/plain": [
       "3"
      ]
     },
     "execution_count": 19,
     "metadata": {},
     "output_type": "execute_result"
    }
   ],
   "source": [
    "m.pop()"
   ]
  },
  {
   "cell_type": "code",
   "execution_count": 20,
   "metadata": {},
   "outputs": [
    {
     "name": "stdout",
     "output_type": "stream",
     "text": [
      "True\n"
     ]
    }
   ],
   "source": [
    "print(m is n)"
   ]
  },
  {
   "cell_type": "code",
   "execution_count": 21,
   "metadata": {},
   "outputs": [
    {
     "data": {
      "text/plain": [
       "[1, 2]"
      ]
     },
     "execution_count": 21,
     "metadata": {},
     "output_type": "execute_result"
    }
   ],
   "source": [
    "m"
   ]
  },
  {
   "cell_type": "code",
   "execution_count": 22,
   "metadata": {},
   "outputs": [
    {
     "data": {
      "text/plain": [
       "[1, 2]"
      ]
     },
     "execution_count": 22,
     "metadata": {},
     "output_type": "execute_result"
    }
   ],
   "source": [
    "n"
   ]
  },
  {
   "cell_type": "markdown",
   "metadata": {},
   "source": [
    "#### in above line, object ids of mutables will not be changed\n",
    "####  m and n will be pointing to the same list object after the modification. The list object will now contain [1, 2]."
   ]
  },
  {
   "cell_type": "markdown",
   "metadata": {},
   "source": [
    "### So what have we seen so far from the above examples?\n",
    "Python handles mutable and immutable objects differently.\n",
    "\n",
    "Immutable are quicker to access than mutable objects.\n",
    "\n",
    "Mutable objects are great to use when you need to change the size of the object, example list, dict etc.. \n",
    "Immutables are used when you need to ensure that the object you made will always stay the same.\n",
    "\n",
    "Immutable objects are fundamentally expensive to “change”, because doing so involves creating a copy. Changing mutable objects is cheap."
   ]
  },
  {
   "cell_type": "markdown",
   "metadata": {},
   "source": [
    "#### Exceptions in immutability..\n",
    "#### Let us consider a tuple t = (‘holberton’, [1, 2, 3])\n",
    "The above tuple t contains elements of different data types, the first one is an immutable string and the second one is a mutable list.The tuple itself isn’t mutable . i.e. it doesn’t have any methods for changing its contents. Likewise, the string is immutable because strings don’t have any mutating methods. But the list object does have mutating methods, so it can be changed. This is a subtle point, but nonetheless important: the “value” of an immutable object can’t change, but it’s constituent objects can."
   ]
  },
  {
   "cell_type": "markdown",
   "metadata": {},
   "source": [
    "### How objects are passed to Functions\n",
    "Its important for us to know difference between mutable and immutable types and how they are treated when passed onto functions .Memory efficiency is highly affected when the proper objects are used.\n",
    "\n",
    "For example if a mutable object is called by reference in a function, it can change the original variable itself. Hence to avoid this, the original variable needs to be copied to another variable. Immutable objects can be called by reference because its value cannot be changed anyways.\n",
    "#### ------------mutable--------------------\n",
    "def updateList(list1):\n",
    "\n",
    "    list1 += [10]\n",
    "    \n",
    "n = [5, 6]\n",
    "\n",
    "print(id(n))                  # 140312184155336\n",
    "\n",
    "updateList(n)\n",
    "\n",
    "print(n)                      # [5, 6, 10]\n",
    "\n",
    "print(id(n))                  # 140312184155336\n",
    "\n",
    "#### ---------------------------------\n",
    "As we can see from the above example, we have called the list via call by reference, so the changes are made to the original list itself.\n",
    "\n",
    "Lets take a look at another example:\n",
    "#### ---------------immutable------------------\n",
    "def updateNumber(n):\n",
    "\n",
    "    print(id(n))\n",
    "    \n",
    "    n += 10\n",
    "    \n",
    "b = 5\n",
    "\n",
    "print(id(b))                   # 10055680\n",
    "\n",
    "updateNumber(b)                # 10055680\n",
    "\n",
    "print(b)                       # 5\n",
    "#### ---------------------------------\n",
    "\n",
    "In the above example the same object is passed to the function, but the variables value doesn’t change even though the object is identical. This is called pass by value. \n",
    "#### So what is exactly happening here? \n",
    "\n",
    "#### When the value is called by the function, only the value of the variable is passed, not the object itself. So the variable referencing the object is not changed, but the object itself is being changed but within the function scope only. Hence the change is not reflected."
   ]
  },
  {
   "cell_type": "markdown",
   "metadata": {},
   "source": [
    "## List\n",
    "### A list is defined using square brackets and holds data that is separated by commas. The list is mutable and ordered. It can contain a mix of different data types.\n"
   ]
  },
  {
   "cell_type": "code",
   "execution_count": 23,
   "metadata": {},
   "outputs": [
    {
     "name": "stdout",
     "output_type": "stream",
     "text": [
      "What\n",
      "is\n",
      "your\n",
      "favourite\n",
      "painting\n",
      "?\n",
      "Who-is-your-favourite-artist-?\n"
     ]
    }
   ],
   "source": [
    "\n",
    "# Join is a string method that takes a list of strings as an argument, \n",
    "# and returns a string consisting of the list elements joined by a separator string.\n",
    "\n",
    "first_str = \"\\n\".join([\"What\",\"is\",\"your\",\"favourite\",\"painting\",\"?\"])\n",
    "second_str = \"-\".join([\"Who\",\"is\",\"your\",\"favourite\",\"artist\",\"?\"])\n",
    "\n",
    "print(first_str)\n",
    "print(second_str)"
   ]
  },
  {
   "cell_type": "code",
   "execution_count": 24,
   "metadata": {},
   "outputs": [
    {
     "name": "stdout",
     "output_type": "stream",
     "text": [
      "['Chagall', 'Kandinskij', 'Dalí', 'da Vinci', 'Picasso', 'Warhol', 'Basquiat']\n"
     ]
    }
   ],
   "source": [
    "artist = ['Chagall', 'Kandinskij', 'Dalí', 'da Vinci', 'Picasso', 'Warhol']\n",
    "\n",
    "artist.append('Basquiat') # append method permits us to add Basquiat in our list of artists\n",
    "print(artist)"
   ]
  },
  {
   "cell_type": "markdown",
   "metadata": {},
   "source": [
    "## Tuple\n",
    "#### A tuple is another container. It is a data type for immutable ordered sequences of elements. Immutable because you can’t add and remove elements from tuples, or sort them in place.\n",
    "\n",
    "#### A tuple is a collection which is ordered and unchangeable.\n",
    "\n",
    "#### Tuples are written with round brackets.\n",
    "\n",
    "### Tuple Items\n",
    "#### 1. Tuple items are ordered, unchangeable, and allow duplicate values.\n",
    "\n",
    "#### 2. Tuple items are indexed, the first item has index [0], the second item has index [1] etc.\n",
    "\n",
    "#### Ordered\n",
    "#### When we say that tuples are ordered, it means that the items have a defined order, and that order will not change.\n",
    "\n",
    "#### Unchangeable\n",
    "#### Tuples are unchangeable, meaning that we cannot change, add or remove items after the tuple has been created.\n",
    "\n",
    "#### Allow Duplicates\n",
    "#### Since tuple are indexed, tuples can have items with the same value:"
   ]
  },
  {
   "cell_type": "code",
   "execution_count": 25,
   "metadata": {},
   "outputs": [
    {
     "name": "stdout",
     "output_type": "stream",
     "text": [
      "The dimensions are 7 x 3 x 1\n"
     ]
    }
   ],
   "source": [
    "length, width, height = 7, 3, 1 # we can assign multiple varibles in one shot\n",
    "print(\"The dimensions are {} x {} x {}\".format(length, width, height))"
   ]
  },
  {
   "cell_type": "code",
   "execution_count": 26,
   "metadata": {},
   "outputs": [
    {
     "name": "stdout",
     "output_type": "stream",
     "text": [
      "('apple', 'banana', 'cherry', 'apple', 'cherry')\n"
     ]
    }
   ],
   "source": [
    "thistuple = (\"apple\", \"banana\", \"cherry\", \"apple\", \"cherry\")\n",
    "print(thistuple)"
   ]
  },
  {
   "cell_type": "code",
   "execution_count": 27,
   "metadata": {},
   "outputs": [
    {
     "name": "stdout",
     "output_type": "stream",
     "text": [
      "(3, 4.6, 'dog')\n"
     ]
    }
   ],
   "source": [
    "my_tuple = 3, 4.6, \"dog\"\n",
    "print(my_tuple)\n",
    "\n",
    "# tuple unpacking is also possible\n",
    "a, b, c = my_tuple"
   ]
  },
  {
   "cell_type": "code",
   "execution_count": 32,
   "metadata": {},
   "outputs": [
    {
     "data": {
      "text/plain": [
       "5"
      ]
     },
     "execution_count": 32,
     "metadata": {},
     "output_type": "execute_result"
    }
   ],
   "source": [
    "a"
   ]
  },
  {
   "cell_type": "markdown",
   "metadata": {},
   "source": [
    "### Set\n",
    "#### Set is a mutable and unordered collection of unique elements. It can permit us to remove duplicate quickly from a list."
   ]
  },
  {
   "cell_type": "code",
   "execution_count": 34,
   "metadata": {},
   "outputs": [
    {
     "name": "stdout",
     "output_type": "stream",
     "text": [
      "{1, 2, 3, 5, 6}\n",
      "<class 'set'>\n"
     ]
    }
   ],
   "source": [
    "numbers = [1, 2, 6, 3, 1, 1, 5] \n",
    "\n",
    "unique_nums = set(numbers)\n",
    "print(unique_nums)\n",
    "print(type(unique_nums))"
   ]
  },
  {
   "cell_type": "markdown",
   "metadata": {},
   "source": [
    "### Dictionary\n",
    "#### Dictionary is a mutable and unordered data structure. It permits storing a pair of items (i.e. keys and values).\n",
    "#### As the example below shows, in the dictionary, it is possible to include containers into other containers to create compound data structures."
   ]
  },
  {
   "cell_type": "code",
   "execution_count": 37,
   "metadata": {},
   "outputs": [
    {
     "name": "stdout",
     "output_type": "stream",
     "text": [
      "In a Sentimental Mood\n",
      "\n",
      "\n",
      "{'jazz': {'Coltrane': 'In a Sentimental Mood', 'M.Davis': 'Blue in Green', 'T.Monk': \"Don't Blame Me\"}, 'classical': {'Bach': 'Cello Suit', 'Mozart': 'Lacrimosa', 'Satie': 'Gymnopédie'}}\n"
     ]
    }
   ],
   "source": [
    "music = { 'jazz': {\"Coltrane\": \"In a Sentimental Mood\",\n",
    "                          \"M.Davis\":\"Blue in Green\" ,\n",
    "                          \"T.Monk\":\"Don't Blame Me\"},\n",
    "            \"classical\" : {\"Bach\": \"Cello Suit\",\n",
    "                        \"Mozart\": \"Lacrimosa\",\n",
    "                        \"Satie\": \"Gymnopédie\"}}\n",
    "\n",
    "print(music[\"jazz\"][\"Coltrane\"]) # we select the value of the key Coltrane\n",
    "print(\"\\n\")\n",
    "print(music)"
   ]
  },
  {
   "cell_type": "code",
   "execution_count": null,
   "metadata": {},
   "outputs": [],
   "source": []
  },
  {
   "cell_type": "code",
   "execution_count": null,
   "metadata": {},
   "outputs": [],
   "source": []
  },
  {
   "cell_type": "code",
   "execution_count": null,
   "metadata": {},
   "outputs": [],
   "source": []
  },
  {
   "cell_type": "code",
   "execution_count": null,
   "metadata": {},
   "outputs": [],
   "source": []
  }
 ],
 "metadata": {
  "kernelspec": {
   "display_name": "Python 3",
   "language": "python",
   "name": "python3"
  },
  "language_info": {
   "codemirror_mode": {
    "name": "ipython",
    "version": 3
   },
   "file_extension": ".py",
   "mimetype": "text/x-python",
   "name": "python",
   "nbconvert_exporter": "python",
   "pygments_lexer": "ipython3",
   "version": "3.6.8"
  }
 },
 "nbformat": 4,
 "nbformat_minor": 2
}
